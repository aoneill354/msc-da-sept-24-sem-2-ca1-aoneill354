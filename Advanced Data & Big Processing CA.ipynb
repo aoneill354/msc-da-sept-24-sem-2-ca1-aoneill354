{
 "cells": [
  {
   "cell_type": "code",
   "execution_count": 1,
   "id": "e235636e-9f7b-420a-ad92-5428fce1cece",
   "metadata": {},
   "outputs": [],
   "source": [
    "# Test"
   ]
  },
  {
   "cell_type": "code",
   "execution_count": null,
   "id": "6bf10438-aa4d-4c33-9e5e-04d18a11a915",
   "metadata": {},
   "outputs": [],
   "source": []
  }
 ],
 "metadata": {
  "kernelspec": {
   "display_name": "Python 3 (ipykernel)",
   "language": "python",
   "name": "python3"
  },
  "language_info": {
   "codemirror_mode": {
    "name": "ipython",
    "version": 3
   },
   "file_extension": ".py",
   "mimetype": "text/x-python",
   "name": "python",
   "nbconvert_exporter": "python",
   "pygments_lexer": "ipython3",
   "version": "3.12.4"
  }
 },
 "nbformat": 4,
 "nbformat_minor": 5
}
