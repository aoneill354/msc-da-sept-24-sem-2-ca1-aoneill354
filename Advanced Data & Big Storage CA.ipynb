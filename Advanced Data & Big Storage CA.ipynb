{
 "cells": [
  {
   "cell_type": "markdown",
   "id": "1f1f294e-4769-4889-88a2-73bd70aabc26",
   "metadata": {},
   "source": [
    "---\n",
    "# <center><font color = \"DarkSlateGray\">*Seoul Bike Data:*</font><center>\n",
    "---"
   ]
  },
  {
   "cell_type": "markdown",
   "id": "c66e3e0f-7a9c-4060-a0e2-939e36b76194",
   "metadata": {},
   "source": [
    "## <left><font color = \"DarkSlateGray\">*1. Introduction:*</font><left>"
   ]
  },
  {
   "cell_type": "markdown",
   "id": "ceb99ca2-93ab-4128-8979-30147f1e0308",
   "metadata": {},
   "source": [
    "*<left><font color=\"DarkSlateGray\">1.1 - Background:</font><left>*\n",
    "\n",
    "Bike-sharing systems have emerged as a cruical component of sustinable ubran mobility, offering an eco-friendly and cost-effective alternative to traditional transportation. Seoul, the captial of South Korea, has implemented its public bike-sharing program, **Ddareungi**, to promote environmental sustainability and reduce traffic congestion. With the increasing popularity of bike-sharing, **predicting demand patterns** is essential for ensuring optimal bike distribution, reducing operational inefficiencies, and improving user satisfaction. \n",
    "\n",
    "Accurately forecasting bike demand is a complex challenge influenced by multiple factors, including **weather conditions, seasonal trends, time of day, and urban mobility patterns**. Traditional statistical methods struggle to capture the **nonlinear dependencies** present in these variables, making **machine learning and deep learning techniques, particularly Neural Networks, a powerful tool for demand prediction**. "
   ]
  },
  {
   "cell_type": "markdown",
   "id": "895780e2-bc0d-4433-8eba-637ae2e38878",
   "metadata": {},
   "source": [
    "*<left><font color=\"DarkSlateGray\">1.2 - Problem Statement:</font><left>*\n",
    "\n",
    "Seoul's bike-sharing system faces operational challenges due to unpredictable demand fluctuations. **Inaccurate demand foorecasts lead to inefficiencies**, such as bike shortages in high-traffic areas or surplus bikes in low-demand zones. This results in **longer wait times, reduced accessibility, and increased operational costs** for bike redistribution. \n",
    "\n",
    "The objective of this study is to develop a **Neural Network-based demand predicition model** that leverages **Big Data Processing** techniques. By integrating **Deep Learning models (e.g. LSTM)** with **Big Data frameworks (e.g. Apache Spark)**, this research aims to provide an **efficient, scalable, and accurate** forecasting solution for Seoul's bike-sharing system. \n",
    "\n",
    "- Seoul's bike-sharing system has large variations in demand due to factors like weather, seasonality, and time of the day.\n",
    "- The goal is to **predict daily bike demand** using **deep learning models** while leveraging **big data processing**. "
   ]
  },
  {
   "cell_type": "markdown",
   "id": "435c6778-7b50-42c6-aa91-2077f9853b2d",
   "metadata": {},
   "source": [
    "*<left><font color=\"DarkSlateGray\">1.3 - Research Questions:</font><left>*\n",
    "\n",
    "This study aims to:\n",
    "- **Analyse Seoul's bike-sharing demand trends** using historical data and exploratory data analysis (EDA).\n",
    "- **Develop a deep learning-based forecasting model** using **Long Short-Term Memory (LSTM) networks** to predict daily bike rentals.\n",
    "- **Implement Big Data Processing techniques** (Apache Spark) to efficiently handle and scale large datasets.\n",
    "- **Evaluate model performance** against traditional predicitive models using metrics like **Mean Absolute Error (MAE), Mean Squared Error (MSE), and R-Squared (R^2)**.\n",
    "- **Provide actionable insights** to help transportation authorities optimaise bike availability and allocation. "
   ]
  },
  {
   "cell_type": "markdown",
   "id": "fab27b60-772e-40fe-a321-bf9ba6ff7a6d",
   "metadata": {},
   "source": [
    "*<left><font color=\"DarkSlateGray\">1.4 - Significance of the Study:</font><left>*\n",
    "\n",
    "- **Urban Mobility Enhancement:** Accurate demand forecasting helps city planners **optimise bike placement** and **reduce shortages** in high-traffic areas.\n",
    "- **Big Data & AI Intgration:** This study demonstrates the effectiveness of **Neural Networks and Big Data Processing** in real-world applications.\n",
    "- **Sustainability & Green Transport:** Efficient bike-sharing systems contribute to **reduced carbon emissions** and **improved urban sustainability**.\n",
    "\n",
    "This research will contribute to the field of **transportation analytics** by showcasing **how AI-driven demand forecasting, coupled with Big Data storage and processing techniques, can improve public bike-sharing systems**. "
   ]
  },
  {
   "cell_type": "markdown",
   "id": "ff41ebac-b305-419a-9465-c57cf554de8b",
   "metadata": {},
   "source": [
    "*<left><font color=\"DarkSlateGray\">1.5 - Business Objectives:</font><left>*\n",
    "\n",
    "- Improve bike availbilty by predicting demand.\n",
    "- Optimise logistics and resource allocation for bike distribution.\n",
    "- Implement scalable big data solutions. "
   ]
  },
  {
   "cell_type": "markdown",
   "id": "229d4e72-af38-42b3-960e-df438264daec",
   "metadata": {},
   "source": [
    "*<left><font color=\"DarkSlateGray\">1.6 - Loading the Required Libraries:</font><left>*"
   ]
  },
  {
   "cell_type": "code",
   "execution_count": 1,
   "id": "d850b0b1-5bdd-4628-bbea-a0312095e28a",
   "metadata": {},
   "outputs": [],
   "source": [
    "# Basic Libraries\n",
    "import pandas as pd\n",
    "import numpy as np\n",
    "\n",
    "# Visualisation Libraries\n",
    "import matplotlib.pyplot as plt\n",
    "import seaborn as sns\n",
    "import missingno as msno\n",
    "import plotly.express as px\n",
    "import plotly.graph_objects as go\n",
    "from tabulate import tabulate\n",
    "from sklearn.model_selection import train_test_split\n",
    "from sklearn.preprocessing import StandardScaler, MinMaxScaler, LabelEncoder\n",
    "#from tensorflow import keras\n",
    "from tensorflow import keras\n",
    "from tensorflow.keras.models import Sequential \n",
    "from tensorflow.keras.layers import Dense, LSTM, Dropout\n",
    "from sklearn.metrics import mean_absolute_error, mean_squared_error, r2_score\n",
    "import pyspark.sql.functions as F\n",
    "from pyspark.sql import SparkSession"
   ]
  },
  {
   "cell_type": "markdown",
   "id": "8fd886fc-cd53-43a7-a095-3f3ea51207b7",
   "metadata": {},
   "source": [
    "## <left><font color = \"DarkSlateGray\">*2. Data Loading & Understanding the Data:*</font><left>"
   ]
  },
  {
   "cell_type": "markdown",
   "id": "98e0e889-7204-4c86-b91e-da169e4b001e",
   "metadata": {},
   "source": [
    "*<left><font color=\"DarkSlateGray\">2.1 - Loading the Dataset:</font><left>*"
   ]
  },
  {
   "cell_type": "code",
   "execution_count": 4,
   "id": "c371a07c-f846-4399-a7cf-635f98b6f267",
   "metadata": {},
   "outputs": [
    {
     "data": {
      "text/html": [
       "<div>\n",
       "<style scoped>\n",
       "    .dataframe tbody tr th:only-of-type {\n",
       "        vertical-align: middle;\n",
       "    }\n",
       "\n",
       "    .dataframe tbody tr th {\n",
       "        vertical-align: top;\n",
       "    }\n",
       "\n",
       "    .dataframe thead th {\n",
       "        text-align: right;\n",
       "    }\n",
       "</style>\n",
       "<table border=\"1\" class=\"dataframe\">\n",
       "  <thead>\n",
       "    <tr style=\"text-align: right;\">\n",
       "      <th></th>\n",
       "      <th>Date</th>\n",
       "      <th>Rented Bike Count</th>\n",
       "      <th>Hour</th>\n",
       "      <th>Temperature(°C)</th>\n",
       "      <th>Humidity(%)</th>\n",
       "      <th>Wind speed (m/s)</th>\n",
       "      <th>Visibility (10m)</th>\n",
       "      <th>Dew point temperature(°C)</th>\n",
       "      <th>Solar Radiation (MJ/m2)</th>\n",
       "      <th>Rainfall(mm)</th>\n",
       "      <th>Snowfall (cm)</th>\n",
       "      <th>Seasons</th>\n",
       "      <th>Holiday</th>\n",
       "      <th>Functioning Day</th>\n",
       "    </tr>\n",
       "  </thead>\n",
       "  <tbody>\n",
       "    <tr>\n",
       "      <th>0</th>\n",
       "      <td>01/12/2017</td>\n",
       "      <td>254</td>\n",
       "      <td>0</td>\n",
       "      <td>-5.2</td>\n",
       "      <td>37</td>\n",
       "      <td>2.2</td>\n",
       "      <td>2000</td>\n",
       "      <td>-17.6</td>\n",
       "      <td>0.0</td>\n",
       "      <td>0.0</td>\n",
       "      <td>0.0</td>\n",
       "      <td>Winter</td>\n",
       "      <td>No Holiday</td>\n",
       "      <td>Yes</td>\n",
       "    </tr>\n",
       "    <tr>\n",
       "      <th>1</th>\n",
       "      <td>01/12/2017</td>\n",
       "      <td>204</td>\n",
       "      <td>1</td>\n",
       "      <td>-5.5</td>\n",
       "      <td>38</td>\n",
       "      <td>0.8</td>\n",
       "      <td>2000</td>\n",
       "      <td>-17.6</td>\n",
       "      <td>0.0</td>\n",
       "      <td>0.0</td>\n",
       "      <td>0.0</td>\n",
       "      <td>Winter</td>\n",
       "      <td>No Holiday</td>\n",
       "      <td>Yes</td>\n",
       "    </tr>\n",
       "    <tr>\n",
       "      <th>2</th>\n",
       "      <td>01/12/2017</td>\n",
       "      <td>173</td>\n",
       "      <td>2</td>\n",
       "      <td>-6.0</td>\n",
       "      <td>39</td>\n",
       "      <td>1.0</td>\n",
       "      <td>2000</td>\n",
       "      <td>-17.7</td>\n",
       "      <td>0.0</td>\n",
       "      <td>0.0</td>\n",
       "      <td>0.0</td>\n",
       "      <td>Winter</td>\n",
       "      <td>No Holiday</td>\n",
       "      <td>Yes</td>\n",
       "    </tr>\n",
       "    <tr>\n",
       "      <th>3</th>\n",
       "      <td>01/12/2017</td>\n",
       "      <td>107</td>\n",
       "      <td>3</td>\n",
       "      <td>-6.2</td>\n",
       "      <td>40</td>\n",
       "      <td>0.9</td>\n",
       "      <td>2000</td>\n",
       "      <td>-17.6</td>\n",
       "      <td>0.0</td>\n",
       "      <td>0.0</td>\n",
       "      <td>0.0</td>\n",
       "      <td>Winter</td>\n",
       "      <td>No Holiday</td>\n",
       "      <td>Yes</td>\n",
       "    </tr>\n",
       "    <tr>\n",
       "      <th>4</th>\n",
       "      <td>01/12/2017</td>\n",
       "      <td>78</td>\n",
       "      <td>4</td>\n",
       "      <td>-6.0</td>\n",
       "      <td>36</td>\n",
       "      <td>2.3</td>\n",
       "      <td>2000</td>\n",
       "      <td>-18.6</td>\n",
       "      <td>0.0</td>\n",
       "      <td>0.0</td>\n",
       "      <td>0.0</td>\n",
       "      <td>Winter</td>\n",
       "      <td>No Holiday</td>\n",
       "      <td>Yes</td>\n",
       "    </tr>\n",
       "  </tbody>\n",
       "</table>\n",
       "</div>"
      ],
      "text/plain": [
       "         Date  Rented Bike Count  Hour  Temperature(°C)  Humidity(%)  \\\n",
       "0  01/12/2017                254     0             -5.2           37   \n",
       "1  01/12/2017                204     1             -5.5           38   \n",
       "2  01/12/2017                173     2             -6.0           39   \n",
       "3  01/12/2017                107     3             -6.2           40   \n",
       "4  01/12/2017                 78     4             -6.0           36   \n",
       "\n",
       "   Wind speed (m/s)  Visibility (10m)  Dew point temperature(°C)  \\\n",
       "0               2.2              2000                      -17.6   \n",
       "1               0.8              2000                      -17.6   \n",
       "2               1.0              2000                      -17.7   \n",
       "3               0.9              2000                      -17.6   \n",
       "4               2.3              2000                      -18.6   \n",
       "\n",
       "   Solar Radiation (MJ/m2)  Rainfall(mm)  Snowfall (cm) Seasons     Holiday  \\\n",
       "0                      0.0           0.0            0.0  Winter  No Holiday   \n",
       "1                      0.0           0.0            0.0  Winter  No Holiday   \n",
       "2                      0.0           0.0            0.0  Winter  No Holiday   \n",
       "3                      0.0           0.0            0.0  Winter  No Holiday   \n",
       "4                      0.0           0.0            0.0  Winter  No Holiday   \n",
       "\n",
       "  Functioning Day  \n",
       "0             Yes  \n",
       "1             Yes  \n",
       "2             Yes  \n",
       "3             Yes  \n",
       "4             Yes  "
      ]
     },
     "execution_count": 4,
     "metadata": {},
     "output_type": "execute_result"
    }
   ],
   "source": [
    "# Loading the dataset\n",
    "# When trying to load the dataset. I kept getting an error. To overcome this I used ISO-8859-1 encoding \n",
    "# It is used as an alternative to prevent Unicode errors when reading files with special characters.\n",
    "df = pd.read_csv(\"SeoulBikeData.csv\", encoding='ISO-8859-1')\n",
    "\n",
    "# Displaying the first 5 rows of the dataset - to ensure a sucessful loading\n",
    "df.head()"
   ]
  },
  {
   "cell_type": "markdown",
   "id": "ba5a1117-eca0-4e5f-a45f-162ddb6a1e15",
   "metadata": {},
   "source": [
    "*<left><font color=\"DarkSlateGray\">2.2 - Dataset Information:</font><left>*"
   ]
  },
  {
   "cell_type": "code",
   "execution_count": 6,
   "id": "4efc97fe-2d1b-4780-b613-8b2a4bb5d649",
   "metadata": {},
   "outputs": [
    {
     "name": "stdout",
     "output_type": "stream",
     "text": [
      "There are 8760 rows and 14 columns in this dataset\n"
     ]
    }
   ],
   "source": [
    "# Printing the number of rows and columns in the dataset\n",
    "# [0] for rows and [1] for columns in the dataset\n",
    "print(f\"There are {df.shape[0]} rows and {df.shape[1]} columns in this dataset\")"
   ]
  },
  {
   "cell_type": "markdown",
   "id": "2bab7997-9c49-49fd-97f3-f2426e312be7",
   "metadata": {},
   "source": [
    "*<left><font color=\"DarkSlateGray\">2.3 - Dataset Dictionary:</font><left>*"
   ]
  },
  {
   "cell_type": "code",
   "execution_count": 8,
   "id": "5796648c-a7b0-4037-8784-45f7ccfd9529",
   "metadata": {},
   "outputs": [
    {
     "data": {
      "text/plain": [
       "Index(['Date', 'Rented Bike Count', 'Hour', 'Temperature(°C)', 'Humidity(%)',\n",
       "       'Wind speed (m/s)', 'Visibility (10m)', 'Dew point temperature(°C)',\n",
       "       'Solar Radiation (MJ/m2)', 'Rainfall(mm)', 'Snowfall (cm)', 'Seasons',\n",
       "       'Holiday', 'Functioning Day'],\n",
       "      dtype='object')"
      ]
     },
     "execution_count": 8,
     "metadata": {},
     "output_type": "execute_result"
    }
   ],
   "source": [
    "# Inspecting the column names that are within the dataset \n",
    "# Using the column manes to create a data dictionary \n",
    "df.columns"
   ]
  },
  {
   "cell_type": "code",
   "execution_count": 9,
   "id": "55942a7a-b1db-44b5-bf75-4cbf52d93ba0",
   "metadata": {},
   "outputs": [
    {
     "name": "stdout",
     "output_type": "stream",
     "text": [
      "+---------------------------+------------------------------------------------------+\n",
      "| Column Name               | Description of Variable                              |\n",
      "+===========================+======================================================+\n",
      "| Date                      | day-month-year.                                      |\n",
      "+---------------------------+------------------------------------------------------+\n",
      "| Rented Bike Count         | Count of bikes rented at each hour.                  |\n",
      "+---------------------------+------------------------------------------------------+\n",
      "| Hour                      | Hour of the day.                                     |\n",
      "+---------------------------+------------------------------------------------------+\n",
      "| Temperature(°C)           | Temperature in Celsius.                              |\n",
      "+---------------------------+------------------------------------------------------+\n",
      "| Humidity(%)               | Humidity %.                                          |\n",
      "+---------------------------+------------------------------------------------------+\n",
      "| Wind speed (m/s)          | measured in m/s.                                     |\n",
      "+---------------------------+------------------------------------------------------+\n",
      "| Visibility (10m)          | measured in m.                                       |\n",
      "+---------------------------+------------------------------------------------------+\n",
      "| Dew point temperature(°C) | measured in Celsius.                                 |\n",
      "+---------------------------+------------------------------------------------------+\n",
      "| Solar Radiation (MJ/m2)   | measured in mJ/m2.                                   |\n",
      "+---------------------------+------------------------------------------------------+\n",
      "| Rainfall(mm)              | Rainfail measured in mm.                             |\n",
      "+---------------------------+------------------------------------------------------+\n",
      "| Snowfall (cm)             | Snowfall measured in cm.                             |\n",
      "+---------------------------+------------------------------------------------------+\n",
      "| Seasons                   | Winter, Spring, Summer, Autumn.                      |\n",
      "+---------------------------+------------------------------------------------------+\n",
      "| Holiday                   | Holiday/No Holiday.                                  |\n",
      "+---------------------------+------------------------------------------------------+\n",
      "| Functioning Day           | NoFunc(Non Functional Hours), Fun(Functional hours). |\n",
      "+---------------------------+------------------------------------------------------+\n"
     ]
    }
   ],
   "source": [
    "data = [\n",
    "    [\"Date\", \"day-month-year.\"],\n",
    "    [\"Rented Bike Count\", \"Count of bikes rented at each hour.\"],\n",
    "    [\"Hour\", \"Hour of the day.\"],\n",
    "    [\"Temperature(°C)\", \"Temperature in Celsius.\"],\n",
    "    [\"Humidity(%)\", \"Humidity %.\"],\n",
    "    [\"Wind speed (m/s)\", \"measured in m/s.\"],\n",
    "    [\"Visibility (10m)\", \"measured in m.\"],\n",
    "    [\"Dew point temperature(°C)\", \"measured in Celsius.\"],\n",
    "    [\"Solar Radiation (MJ/m2)\", \"measured in mJ/m2.\"],\n",
    "    [\"Rainfall(mm)\", \"Rainfail measured in mm.\"],\n",
    "    [\"Snowfall (cm)\", \"Snowfall measured in cm.\"],\n",
    "    [\"Seasons\", \"Winter, Spring, Summer, Autumn.\"],\n",
    "    [\"Holiday\", \"Holiday/No Holiday.\"],\n",
    "    [\"Functioning Day\", \"NoFunc(Non Functional Hours), Fun(Functional hours).\"],\n",
    "]\n",
    "\n",
    "# Creating the table\n",
    "table = tabulate(data, headers=[\"Column Name\",\"Description of Variable\"], tablefmt=\"grid\")\n",
    "\n",
    "# Print the table\n",
    "print(table)"
   ]
  },
  {
   "cell_type": "markdown",
   "id": "d34d390c-2c95-4ab1-a3ba-3d0cb00c2fff",
   "metadata": {},
   "source": [
    "*<left><font color=\"DarkSlateGray\">2.4 - Statistics Summary:</font><left>*"
   ]
  },
  {
   "cell_type": "code",
   "execution_count": 11,
   "id": "5f0b0ff9-9255-4e7f-a414-11edc24733e1",
   "metadata": {},
   "outputs": [
    {
     "data": {
      "text/html": [
       "<div>\n",
       "<style scoped>\n",
       "    .dataframe tbody tr th:only-of-type {\n",
       "        vertical-align: middle;\n",
       "    }\n",
       "\n",
       "    .dataframe tbody tr th {\n",
       "        vertical-align: top;\n",
       "    }\n",
       "\n",
       "    .dataframe thead th {\n",
       "        text-align: right;\n",
       "    }\n",
       "</style>\n",
       "<table border=\"1\" class=\"dataframe\">\n",
       "  <thead>\n",
       "    <tr style=\"text-align: right;\">\n",
       "      <th></th>\n",
       "      <th>Rented Bike Count</th>\n",
       "      <th>Hour</th>\n",
       "      <th>Temperature(°C)</th>\n",
       "      <th>Humidity(%)</th>\n",
       "      <th>Wind speed (m/s)</th>\n",
       "      <th>Visibility (10m)</th>\n",
       "      <th>Dew point temperature(°C)</th>\n",
       "      <th>Solar Radiation (MJ/m2)</th>\n",
       "      <th>Rainfall(mm)</th>\n",
       "      <th>Snowfall (cm)</th>\n",
       "    </tr>\n",
       "  </thead>\n",
       "  <tbody>\n",
       "    <tr>\n",
       "      <th>count</th>\n",
       "      <td>8760.000000</td>\n",
       "      <td>8760.000000</td>\n",
       "      <td>8760.000000</td>\n",
       "      <td>8760.000000</td>\n",
       "      <td>8760.000000</td>\n",
       "      <td>8760.000000</td>\n",
       "      <td>8760.000000</td>\n",
       "      <td>8760.000000</td>\n",
       "      <td>8760.000000</td>\n",
       "      <td>8760.000000</td>\n",
       "    </tr>\n",
       "    <tr>\n",
       "      <th>mean</th>\n",
       "      <td>704.602055</td>\n",
       "      <td>11.500000</td>\n",
       "      <td>12.882922</td>\n",
       "      <td>58.226256</td>\n",
       "      <td>1.724909</td>\n",
       "      <td>1436.825799</td>\n",
       "      <td>4.073813</td>\n",
       "      <td>0.569111</td>\n",
       "      <td>0.148687</td>\n",
       "      <td>0.075068</td>\n",
       "    </tr>\n",
       "    <tr>\n",
       "      <th>std</th>\n",
       "      <td>644.997468</td>\n",
       "      <td>6.922582</td>\n",
       "      <td>11.944825</td>\n",
       "      <td>20.362413</td>\n",
       "      <td>1.036300</td>\n",
       "      <td>608.298712</td>\n",
       "      <td>13.060369</td>\n",
       "      <td>0.868746</td>\n",
       "      <td>1.128193</td>\n",
       "      <td>0.436746</td>\n",
       "    </tr>\n",
       "    <tr>\n",
       "      <th>min</th>\n",
       "      <td>0.000000</td>\n",
       "      <td>0.000000</td>\n",
       "      <td>-17.800000</td>\n",
       "      <td>0.000000</td>\n",
       "      <td>0.000000</td>\n",
       "      <td>27.000000</td>\n",
       "      <td>-30.600000</td>\n",
       "      <td>0.000000</td>\n",
       "      <td>0.000000</td>\n",
       "      <td>0.000000</td>\n",
       "    </tr>\n",
       "    <tr>\n",
       "      <th>25%</th>\n",
       "      <td>191.000000</td>\n",
       "      <td>5.750000</td>\n",
       "      <td>3.500000</td>\n",
       "      <td>42.000000</td>\n",
       "      <td>0.900000</td>\n",
       "      <td>940.000000</td>\n",
       "      <td>-4.700000</td>\n",
       "      <td>0.000000</td>\n",
       "      <td>0.000000</td>\n",
       "      <td>0.000000</td>\n",
       "    </tr>\n",
       "    <tr>\n",
       "      <th>50%</th>\n",
       "      <td>504.500000</td>\n",
       "      <td>11.500000</td>\n",
       "      <td>13.700000</td>\n",
       "      <td>57.000000</td>\n",
       "      <td>1.500000</td>\n",
       "      <td>1698.000000</td>\n",
       "      <td>5.100000</td>\n",
       "      <td>0.010000</td>\n",
       "      <td>0.000000</td>\n",
       "      <td>0.000000</td>\n",
       "    </tr>\n",
       "    <tr>\n",
       "      <th>75%</th>\n",
       "      <td>1065.250000</td>\n",
       "      <td>17.250000</td>\n",
       "      <td>22.500000</td>\n",
       "      <td>74.000000</td>\n",
       "      <td>2.300000</td>\n",
       "      <td>2000.000000</td>\n",
       "      <td>14.800000</td>\n",
       "      <td>0.930000</td>\n",
       "      <td>0.000000</td>\n",
       "      <td>0.000000</td>\n",
       "    </tr>\n",
       "    <tr>\n",
       "      <th>max</th>\n",
       "      <td>3556.000000</td>\n",
       "      <td>23.000000</td>\n",
       "      <td>39.400000</td>\n",
       "      <td>98.000000</td>\n",
       "      <td>7.400000</td>\n",
       "      <td>2000.000000</td>\n",
       "      <td>27.200000</td>\n",
       "      <td>3.520000</td>\n",
       "      <td>35.000000</td>\n",
       "      <td>8.800000</td>\n",
       "    </tr>\n",
       "  </tbody>\n",
       "</table>\n",
       "</div>"
      ],
      "text/plain": [
       "       Rented Bike Count         Hour  Temperature(°C)  Humidity(%)  \\\n",
       "count        8760.000000  8760.000000      8760.000000  8760.000000   \n",
       "mean          704.602055    11.500000        12.882922    58.226256   \n",
       "std           644.997468     6.922582        11.944825    20.362413   \n",
       "min             0.000000     0.000000       -17.800000     0.000000   \n",
       "25%           191.000000     5.750000         3.500000    42.000000   \n",
       "50%           504.500000    11.500000        13.700000    57.000000   \n",
       "75%          1065.250000    17.250000        22.500000    74.000000   \n",
       "max          3556.000000    23.000000        39.400000    98.000000   \n",
       "\n",
       "       Wind speed (m/s)  Visibility (10m)  Dew point temperature(°C)  \\\n",
       "count       8760.000000       8760.000000                8760.000000   \n",
       "mean           1.724909       1436.825799                   4.073813   \n",
       "std            1.036300        608.298712                  13.060369   \n",
       "min            0.000000         27.000000                 -30.600000   \n",
       "25%            0.900000        940.000000                  -4.700000   \n",
       "50%            1.500000       1698.000000                   5.100000   \n",
       "75%            2.300000       2000.000000                  14.800000   \n",
       "max            7.400000       2000.000000                  27.200000   \n",
       "\n",
       "       Solar Radiation (MJ/m2)  Rainfall(mm)  Snowfall (cm)  \n",
       "count              8760.000000   8760.000000    8760.000000  \n",
       "mean                  0.569111      0.148687       0.075068  \n",
       "std                   0.868746      1.128193       0.436746  \n",
       "min                   0.000000      0.000000       0.000000  \n",
       "25%                   0.000000      0.000000       0.000000  \n",
       "50%                   0.010000      0.000000       0.000000  \n",
       "75%                   0.930000      0.000000       0.000000  \n",
       "max                   3.520000     35.000000       8.800000  "
      ]
     },
     "execution_count": 11,
     "metadata": {},
     "output_type": "execute_result"
    }
   ],
   "source": [
    "# Provides summary statistics for numerical columns in the DF\n",
    "df.describe()"
   ]
  },
  {
   "cell_type": "markdown",
   "id": "f824b7db-62b4-4dad-bc9a-8e9d963c0c84",
   "metadata": {},
   "source": [
    "*<left><font color=\"DarkSlateGray\">2.5 - Correlation Heatmap:</font><left>*"
   ]
  },
  {
   "cell_type": "code",
   "execution_count": 13,
   "id": "47f052c4-ac43-4570-9e40-886994d38587",
   "metadata": {},
   "outputs": [
    {
     "data": {
      "image/png": "[encoded data removed]",
      "text/plain": [
       "<Figure size 1500x1000 with 2 Axes>"
      ]
     },
     "metadata": {},
     "output_type": "display_data"
    }
   ],
   "source": [
    "# Select only numeric columns for the correlation\n",
    "# ensures that only numerical data is used for the correlation, preventing errors\n",
    "numeric_df = df.select_dtypes(include=['number'])\n",
    "\n",
    "# Generating the heatmap\n",
    "# Using the 'coolwarm' palette, will help identify pos or neg relationships\n",
    "plt.figure(figsize=(15,10))\n",
    "sns.heatmap(numeric_df.corr(), cmap=\"coolwarm\", linewidth=0.5)\n",
    "plt.title(\"Correlation Heatmap of Numerical Variables\")\n",
    "plt.show()"
   ]
  },
  {
   "cell_type": "markdown",
   "id": "48d597cb-20dc-4540-9fd6-3de2ad2b41df",
   "metadata": {},
   "source": [
    "*<left><font color=\"DarkSlateGray\">2.6 - Investigating if any Duplicates exist within the Dataset:</font><left>*"
   ]
  },
  {
   "cell_type": "code",
   "execution_count": 15,
   "id": "f6955d86-ea49-4a9d-b1a2-71257e7ccbb5",
   "metadata": {},
   "outputs": [
    {
     "data": {
      "text/plain": [
       "0"
      ]
     },
     "execution_count": 15,
     "metadata": {},
     "output_type": "execute_result"
    }
   ],
   "source": [
    "# Returns the total number of duplicated rows that are within the df\n",
    "df.duplicated().sum()"
   ]
  },
  {
   "cell_type": "markdown",
   "id": "75b07d77-cc67-495b-a8bf-a14e584e24b9",
   "metadata": {},
   "source": [
    "*<left><font color=\"DarkSlateGray\">2.7 - Investigating if there are any missing values within the Dataset:</font><left>*"
   ]
  },
  {
   "cell_type": "code",
   "execution_count": 17,
   "id": "470e3c8c-c3bb-411d-99bc-8bb8c02d3ca3",
   "metadata": {},
   "outputs": [
    {
     "data": {
      "text/plain": [
       "<Axes: >"
      ]
     },
     "execution_count": 17,
     "metadata": {},
     "output_type": "execute_result"
    },
    {
     "data": {
      "image/png": "[encoded data removed]",
      "text/plain": [
       "<Figure size 2500x1000 with 3 Axes>"
      ]
     },
     "metadata": {},
     "output_type": "display_data"
    }
   ],
   "source": [
    "# Generates a bar chart visual that shows the count of non-missing values for each column\n",
    "msno.bar(df)"
   ]
  },
  {
   "cell_type": "markdown",
   "id": "8708de75-9c19-4d60-ab5e-378412883fca",
   "metadata": {},
   "source": [
    "*<left><font color=\"DarkSlateGray\">2.8 - Section Conclusion:</font><left>*"
   ]
  },
  {
   "cell_type": "markdown",
   "id": "0c239f7b-3d94-439b-9ff0-29b571771953",
   "metadata": {},
   "source": [
    "- X\n",
    "- X\n",
    "- X"
   ]
  },
  {
   "cell_type": "markdown",
   "id": "050e93d1-9580-4f2a-ad77-37d7130b1cd8",
   "metadata": {},
   "source": [
    "## <left><font color = \"DarkSlateGray\">*3. Data Pre-processing:*</font><left>"
   ]
  },
  {
   "cell_type": "markdown",
   "id": "e211b649-aaa2-4109-b3fd-2648c171fcb5",
   "metadata": {},
   "source": [
    "*<left><font color=\"DarkSlateGray\">3.1 - Handling Data Types:</font><left>*"
   ]
  },
  {
   "cell_type": "code",
   "execution_count": 22,
   "id": "1e8166a8-2d37-4f4a-86ea-78b99253a65f",
   "metadata": {},
   "outputs": [
    {
     "name": "stdout",
     "output_type": "stream",
     "text": [
      "Date                         datetime64[ns]\n",
      "Rented Bike Count                     int64\n",
      "Hour                                  int64\n",
      "Temperature(°C)                     float64\n",
      "Humidity(%)                           int64\n",
      "Wind speed (m/s)                    float64\n",
      "Visibility (10m)                      int64\n",
      "Dew point temperature(°C)           float64\n",
      "Solar Radiation (MJ/m2)             float64\n",
      "Rainfall(mm)                        float64\n",
      "Snowfall (cm)                       float64\n",
      "Seasons                              object\n",
      "Holiday                              object\n",
      "Functioning Day                      object\n",
      "Month                                 int32\n",
      "Day                                   int32\n",
      "Weekday                               int32\n",
      "Is_Weekend                           object\n",
      "dtype: object\n"
     ]
    }
   ],
   "source": [
    "# Convert 'Date' column to datetime format\n",
    "df['Date'] = pd.to_datetime(df['Date'], dayfirst=True)\n",
    "\n",
    "# Extract date components\n",
    "df['Month'] = df['Date'].dt.month\n",
    "df['Day'] = df['Date'].dt.day\n",
    "df['Weekday'] = df['Date'].dt.weekday\n",
    "df['Is_Weekend'] = df['Weekday'].apply(lambda x: \"Weekend\" if x >= 5 else \"Weekday\")\n",
    "\n",
    "# Confirm the data type conversion\n",
    "print(df.dtypes)"
   ]
  },
  {
   "cell_type": "markdown",
   "id": "07f9a97a-9183-4525-9f50-b657bc324708",
   "metadata": {},
   "source": [
    "*<left><font color=\"DarkSlateGray\">3.2 - Creating New Columns:</font><left>*"
   ]
  },
  {
   "cell_type": "code",
   "execution_count": 24,
   "id": "4eec59bf-0f01-4f22-9585-0c5528d62690",
   "metadata": {},
   "outputs": [],
   "source": [
    "# Creating 'Part of the Day' Column \n",
    "def categorise_time(hour):\n",
    "    if 5 <= hour < 12:\n",
    "        return \"Morning\"\n",
    "    elif 12 <= hour < 17:\n",
    "        return \"Afternoon\"\n",
    "    elif 17 <= hour < 21:\n",
    "        return \"Evening\"\n",
    "    else:\n",
    "        return \"Night\"\n",
    "\n",
    "# Applying the function to create the new column \n",
    "df['Part of the Day'] = df['Hour'].apply(categorise_time)"
   ]
  },
  {
   "cell_type": "code",
   "execution_count": 25,
   "id": "1f9c05e5-48f4-4e97-b840-ae7e943d33bc",
   "metadata": {},
   "outputs": [],
   "source": [
    "# Creating Peak Hour Indicator Column\n",
    "df['Peak Hour'] = df['Hour'].apply(lambda x: \"Peak\" if (7 <= x <= 9) or (17 <= x <= 19) else \"Non-Peak\")"
   ]
  },
  {
   "cell_type": "code",
   "execution_count": 26,
   "id": "532f8958-c401-48b6-a2a3-ae15cc7b6f9f",
   "metadata": {},
   "outputs": [],
   "source": [
    "# Creating Weather Condition\n",
    "def weather_category (temp, wind, rain, solar):\n",
    "    if temp < 0:\n",
    "        return \"Freezing\"\n",
    "    elif rain > 10 or wind > 7:\n",
    "        return \"Stormy\"\n",
    "    elif solar > 2:\n",
    "        return \"Sunny\"\n",
    "    else:\n",
    "        return \"Normal\"\n",
    "\n",
    "df['Weather Condition'] = df.apply(lambda x: weather_category(x['Temperature(°C)'], x['Wind speed (m/s)'],\n",
    "                                                              x['Rainfall(mm)'], x['Solar Radiation (MJ/m2)']), axis=1)"
   ]
  },
  {
   "cell_type": "code",
   "execution_count": 27,
   "id": "64647a93-70f6-4b86-a7f3-2f7bde336dd9",
   "metadata": {},
   "outputs": [],
   "source": [
    "# Creating Daylight condition\n",
    "def is_daylight(hour, month):\n",
    "    if (3 <= month <= 9 and 6 <= hour <= 20): # March-Sep: More Daylight\n",
    "        return \"Daylight\"\n",
    "    elif (month < 3 or month > 9) and (7 <= hour <= 18): # Oct - Feb: Less Daylight\n",
    "        return \"Daylight\"\n",
    "    else:\n",
    "        return \"Nighttime\"\n",
    "\n",
    "df['Daylight'] = df.apply(lambda x: is_daylight(x['Hour'], x['Month']), axis=1)"
   ]
  },
  {
   "cell_type": "code",
   "execution_count": 28,
   "id": "7049d195-3954-46d0-a006-9a0cc7937824",
   "metadata": {},
   "outputs": [
    {
     "data": {
      "text/html": [
       "<div>\n",
       "<style scoped>\n",
       "    .dataframe tbody tr th:only-of-type {\n",
       "        vertical-align: middle;\n",
       "    }\n",
       "\n",
       "    .dataframe tbody tr th {\n",
       "        vertical-align: top;\n",
       "    }\n",
       "\n",
       "    .dataframe thead th {\n",
       "        text-align: right;\n",
       "    }\n",
       "</style>\n",
       "<table border=\"1\" class=\"dataframe\">\n",
       "  <thead>\n",
       "    <tr style=\"text-align: right;\">\n",
       "      <th></th>\n",
       "      <th>Date</th>\n",
       "      <th>Rented Bike Count</th>\n",
       "      <th>Hour</th>\n",
       "      <th>Temperature(°C)</th>\n",
       "      <th>Humidity(%)</th>\n",
       "      <th>Wind speed (m/s)</th>\n",
       "      <th>Visibility (10m)</th>\n",
       "      <th>Dew point temperature(°C)</th>\n",
       "      <th>Solar Radiation (MJ/m2)</th>\n",
       "      <th>Rainfall(mm)</th>\n",
       "      <th>...</th>\n",
       "      <th>Holiday</th>\n",
       "      <th>Functioning Day</th>\n",
       "      <th>Month</th>\n",
       "      <th>Day</th>\n",
       "      <th>Weekday</th>\n",
       "      <th>Is_Weekend</th>\n",
       "      <th>Part of the Day</th>\n",
       "      <th>Peak Hour</th>\n",
       "      <th>Weather Condition</th>\n",
       "      <th>Daylight</th>\n",
       "    </tr>\n",
       "  </thead>\n",
       "  <tbody>\n",
       "    <tr>\n",
       "      <th>0</th>\n",
       "      <td>2017-12-01</td>\n",
       "      <td>254</td>\n",
       "      <td>0</td>\n",
       "      <td>-5.2</td>\n",
       "      <td>37</td>\n",
       "      <td>2.2</td>\n",
       "      <td>2000</td>\n",
       "      <td>-17.6</td>\n",
       "      <td>0.0</td>\n",
       "      <td>0.0</td>\n",
       "      <td>...</td>\n",
       "      <td>No Holiday</td>\n",
       "      <td>Yes</td>\n",
       "      <td>12</td>\n",
       "      <td>1</td>\n",
       "      <td>4</td>\n",
       "      <td>Weekday</td>\n",
       "      <td>Night</td>\n",
       "      <td>Non-Peak</td>\n",
       "      <td>Freezing</td>\n",
       "      <td>Nighttime</td>\n",
       "    </tr>\n",
       "    <tr>\n",
       "      <th>1</th>\n",
       "      <td>2017-12-01</td>\n",
       "      <td>204</td>\n",
       "      <td>1</td>\n",
       "      <td>-5.5</td>\n",
       "      <td>38</td>\n",
       "      <td>0.8</td>\n",
       "      <td>2000</td>\n",
       "      <td>-17.6</td>\n",
       "      <td>0.0</td>\n",
       "      <td>0.0</td>\n",
       "      <td>...</td>\n",
       "      <td>No Holiday</td>\n",
       "      <td>Yes</td>\n",
       "      <td>12</td>\n",
       "      <td>1</td>\n",
       "      <td>4</td>\n",
       "      <td>Weekday</td>\n",
       "      <td>Night</td>\n",
       "      <td>Non-Peak</td>\n",
       "      <td>Freezing</td>\n",
       "      <td>Nighttime</td>\n",
       "    </tr>\n",
       "    <tr>\n",
       "      <th>2</th>\n",
       "      <td>2017-12-01</td>\n",
       "      <td>173</td>\n",
       "      <td>2</td>\n",
       "      <td>-6.0</td>\n",
       "      <td>39</td>\n",
       "      <td>1.0</td>\n",
       "      <td>2000</td>\n",
       "      <td>-17.7</td>\n",
       "      <td>0.0</td>\n",
       "      <td>0.0</td>\n",
       "      <td>...</td>\n",
       "      <td>No Holiday</td>\n",
       "      <td>Yes</td>\n",
       "      <td>12</td>\n",
       "      <td>1</td>\n",
       "      <td>4</td>\n",
       "      <td>Weekday</td>\n",
       "      <td>Night</td>\n",
       "      <td>Non-Peak</td>\n",
       "      <td>Freezing</td>\n",
       "      <td>Nighttime</td>\n",
       "    </tr>\n",
       "    <tr>\n",
       "      <th>3</th>\n",
       "      <td>2017-12-01</td>\n",
       "      <td>107</td>\n",
       "      <td>3</td>\n",
       "      <td>-6.2</td>\n",
       "      <td>40</td>\n",
       "      <td>0.9</td>\n",
       "      <td>2000</td>\n",
       "      <td>-17.6</td>\n",
       "      <td>0.0</td>\n",
       "      <td>0.0</td>\n",
       "      <td>...</td>\n",
       "      <td>No Holiday</td>\n",
       "      <td>Yes</td>\n",
       "      <td>12</td>\n",
       "      <td>1</td>\n",
       "      <td>4</td>\n",
       "      <td>Weekday</td>\n",
       "      <td>Night</td>\n",
       "      <td>Non-Peak</td>\n",
       "      <td>Freezing</td>\n",
       "      <td>Nighttime</td>\n",
       "    </tr>\n",
       "    <tr>\n",
       "      <th>4</th>\n",
       "      <td>2017-12-01</td>\n",
       "      <td>78</td>\n",
       "      <td>4</td>\n",
       "      <td>-6.0</td>\n",
       "      <td>36</td>\n",
       "      <td>2.3</td>\n",
       "      <td>2000</td>\n",
       "      <td>-18.6</td>\n",
       "      <td>0.0</td>\n",
       "      <td>0.0</td>\n",
       "      <td>...</td>\n",
       "      <td>No Holiday</td>\n",
       "      <td>Yes</td>\n",
       "      <td>12</td>\n",
       "      <td>1</td>\n",
       "      <td>4</td>\n",
       "      <td>Weekday</td>\n",
       "      <td>Night</td>\n",
       "      <td>Non-Peak</td>\n",
       "      <td>Freezing</td>\n",
       "      <td>Nighttime</td>\n",
       "    </tr>\n",
       "  </tbody>\n",
       "</table>\n",
       "<p>5 rows × 22 columns</p>\n",
       "</div>"
      ],
      "text/plain": [
       "        Date  Rented Bike Count  Hour  Temperature(°C)  Humidity(%)  \\\n",
       "0 2017-12-01                254     0             -5.2           37   \n",
       "1 2017-12-01                204     1             -5.5           38   \n",
       "2 2017-12-01                173     2             -6.0           39   \n",
       "3 2017-12-01                107     3             -6.2           40   \n",
       "4 2017-12-01                 78     4             -6.0           36   \n",
       "\n",
       "   Wind speed (m/s)  Visibility (10m)  Dew point temperature(°C)  \\\n",
       "0               2.2              2000                      -17.6   \n",
       "1               0.8              2000                      -17.6   \n",
       "2               1.0              2000                      -17.7   \n",
       "3               0.9              2000                      -17.6   \n",
       "4               2.3              2000                      -18.6   \n",
       "\n",
       "   Solar Radiation (MJ/m2)  Rainfall(mm)  ...     Holiday Functioning Day  \\\n",
       "0                      0.0           0.0  ...  No Holiday             Yes   \n",
       "1                      0.0           0.0  ...  No Holiday             Yes   \n",
       "2                      0.0           0.0  ...  No Holiday             Yes   \n",
       "3                      0.0           0.0  ...  No Holiday             Yes   \n",
       "4                      0.0           0.0  ...  No Holiday             Yes   \n",
       "\n",
       "  Month Day  Weekday  Is_Weekend  Part of the Day Peak Hour Weather Condition  \\\n",
       "0    12   1        4     Weekday            Night  Non-Peak          Freezing   \n",
       "1    12   1        4     Weekday            Night  Non-Peak          Freezing   \n",
       "2    12   1        4     Weekday            Night  Non-Peak          Freezing   \n",
       "3    12   1        4     Weekday            Night  Non-Peak          Freezing   \n",
       "4    12   1        4     Weekday            Night  Non-Peak          Freezing   \n",
       "\n",
       "    Daylight  \n",
       "0  Nighttime  \n",
       "1  Nighttime  \n",
       "2  Nighttime  \n",
       "3  Nighttime  \n",
       "4  Nighttime  \n",
       "\n",
       "[5 rows x 22 columns]"
      ]
     },
     "execution_count": 28,
     "metadata": {},
     "output_type": "execute_result"
    }
   ],
   "source": [
    "df.head()"
   ]
  },
  {
   "cell_type": "markdown",
   "id": "ca585d51-bdfc-4378-9394-9e23967297e8",
   "metadata": {},
   "source": [
    "*<left><font color=\"DarkSlateGray\">3.3 - Handling Outliders:</font><left>*"
   ]
  },
  {
   "cell_type": "code",
   "execution_count": 48,
   "id": "ca392467-ceca-497b-b9a4-615d6127429c",
   "metadata": {},
   "outputs": [
    {
     "data": {
      "image/png": "[encoded data removed]",
      "text/plain": [
       "<Figure size 1000x500 with 1 Axes>"
      ]
     },
     "metadata": {},
     "output_type": "display_data"
    }
   ],
   "source": [
    "# Boxplot to visualise outliers\n",
    "plt.figure(figsize=(10,5))\n",
    "sns.boxplot(data=df[['Temperature(°C)', 'Humidity(%)', 'Wind speed (m/s)']], palette=\"coolwarm\")\n",
    "plt.title(\"Boxplot of Continuous Variables to Identify Outliers\")\n",
    "plt.show()"
   ]
  },
  {
   "cell_type": "markdown",
   "id": "f36eac2c-fb73-42ec-ae3c-73c2b22bb713",
   "metadata": {},
   "source": [
    "## <left><font color = \"DarkSlateGray\">*4. Exploratory Data Analysis:*</font><left>"
   ]
  },
  {
   "cell_type": "code",
   "execution_count": 55,
   "id": "8931daec-9f80-4723-a4bb-c288a45c73c3",
   "metadata": {},
   "outputs": [
    {
     "data": {
      "text/plain": [
       "Index(['Date', 'Rented Bike Count', 'Hour', 'Temperature(°C)', 'Humidity(%)',\n",
       "       'Wind speed (m/s)', 'Visibility (10m)', 'Dew point temperature(°C)',\n",
       "       'Solar Radiation (MJ/m2)', 'Rainfall(mm)', 'Snowfall (cm)', 'Seasons',\n",
       "       'Holiday', 'Functioning Day', 'Month', 'Day', 'Weekday', 'Is_Weekend',\n",
       "       'Part of the Day', 'Peak Hour', 'Weather Condition', 'Daylight'],\n",
       "      dtype='object')"
      ]
     },
     "execution_count": 55,
     "metadata": {},
     "output_type": "execute_result"
    }
   ],
   "source": [
    "df.columns"
   ]
  },
  {
   "cell_type": "code",
   "execution_count": 61,
   "id": "465eb926-8f63-4bfb-bb09-4790d8c6c7b5",
   "metadata": {},
   "outputs": [
    {
     "data": {
      "text/html": [
       "<div>\n",
       "<style scoped>\n",
       "    .dataframe tbody tr th:only-of-type {\n",
       "        vertical-align: middle;\n",
       "    }\n",
       "\n",
       "    .dataframe tbody tr th {\n",
       "        vertical-align: top;\n",
       "    }\n",
       "\n",
       "    .dataframe thead th {\n",
       "        text-align: right;\n",
       "    }\n",
       "</style>\n",
       "<table border=\"1\" class=\"dataframe\">\n",
       "  <thead>\n",
       "    <tr style=\"text-align: right;\">\n",
       "      <th></th>\n",
       "      <th>Date</th>\n",
       "      <th>Rented Bike Count</th>\n",
       "      <th>Hour</th>\n",
       "      <th>Temperature(°C)</th>\n",
       "      <th>Humidity(%)</th>\n",
       "      <th>Wind speed (m/s)</th>\n",
       "      <th>Visibility (10m)</th>\n",
       "      <th>Dew point temperature(°C)</th>\n",
       "      <th>Solar Radiation (MJ/m2)</th>\n",
       "      <th>Rainfall(mm)</th>\n",
       "      <th>...</th>\n",
       "      <th>Holiday</th>\n",
       "      <th>Functioning Day</th>\n",
       "      <th>Month</th>\n",
       "      <th>Day</th>\n",
       "      <th>Weekday</th>\n",
       "      <th>Is_Weekend</th>\n",
       "      <th>Part of the Day</th>\n",
       "      <th>Peak Hour</th>\n",
       "      <th>Weather Condition</th>\n",
       "      <th>Daylight</th>\n",
       "    </tr>\n",
       "  </thead>\n",
       "  <tbody>\n",
       "    <tr>\n",
       "      <th>0</th>\n",
       "      <td>2017-12-01</td>\n",
       "      <td>254</td>\n",
       "      <td>0</td>\n",
       "      <td>-5.2</td>\n",
       "      <td>37</td>\n",
       "      <td>2.2</td>\n",
       "      <td>2000</td>\n",
       "      <td>-17.6</td>\n",
       "      <td>0.0</td>\n",
       "      <td>0.0</td>\n",
       "      <td>...</td>\n",
       "      <td>No Holiday</td>\n",
       "      <td>Yes</td>\n",
       "      <td>12</td>\n",
       "      <td>1</td>\n",
       "      <td>4</td>\n",
       "      <td>Weekday</td>\n",
       "      <td>Night</td>\n",
       "      <td>Non-Peak</td>\n",
       "      <td>Freezing</td>\n",
       "      <td>Nighttime</td>\n",
       "    </tr>\n",
       "    <tr>\n",
       "      <th>1</th>\n",
       "      <td>2017-12-01</td>\n",
       "      <td>204</td>\n",
       "      <td>1</td>\n",
       "      <td>-5.5</td>\n",
       "      <td>38</td>\n",
       "      <td>0.8</td>\n",
       "      <td>2000</td>\n",
       "      <td>-17.6</td>\n",
       "      <td>0.0</td>\n",
       "      <td>0.0</td>\n",
       "      <td>...</td>\n",
       "      <td>No Holiday</td>\n",
       "      <td>Yes</td>\n",
       "      <td>12</td>\n",
       "      <td>1</td>\n",
       "      <td>4</td>\n",
       "      <td>Weekday</td>\n",
       "      <td>Night</td>\n",
       "      <td>Non-Peak</td>\n",
       "      <td>Freezing</td>\n",
       "      <td>Nighttime</td>\n",
       "    </tr>\n",
       "    <tr>\n",
       "      <th>2</th>\n",
       "      <td>2017-12-01</td>\n",
       "      <td>173</td>\n",
       "      <td>2</td>\n",
       "      <td>-6.0</td>\n",
       "      <td>39</td>\n",
       "      <td>1.0</td>\n",
       "      <td>2000</td>\n",
       "      <td>-17.7</td>\n",
       "      <td>0.0</td>\n",
       "      <td>0.0</td>\n",
       "      <td>...</td>\n",
       "      <td>No Holiday</td>\n",
       "      <td>Yes</td>\n",
       "      <td>12</td>\n",
       "      <td>1</td>\n",
       "      <td>4</td>\n",
       "      <td>Weekday</td>\n",
       "      <td>Night</td>\n",
       "      <td>Non-Peak</td>\n",
       "      <td>Freezing</td>\n",
       "      <td>Nighttime</td>\n",
       "    </tr>\n",
       "    <tr>\n",
       "      <th>3</th>\n",
       "      <td>2017-12-01</td>\n",
       "      <td>107</td>\n",
       "      <td>3</td>\n",
       "      <td>-6.2</td>\n",
       "      <td>40</td>\n",
       "      <td>0.9</td>\n",
       "      <td>2000</td>\n",
       "      <td>-17.6</td>\n",
       "      <td>0.0</td>\n",
       "      <td>0.0</td>\n",
       "      <td>...</td>\n",
       "      <td>No Holiday</td>\n",
       "      <td>Yes</td>\n",
       "      <td>12</td>\n",
       "      <td>1</td>\n",
       "      <td>4</td>\n",
       "      <td>Weekday</td>\n",
       "      <td>Night</td>\n",
       "      <td>Non-Peak</td>\n",
       "      <td>Freezing</td>\n",
       "      <td>Nighttime</td>\n",
       "    </tr>\n",
       "    <tr>\n",
       "      <th>4</th>\n",
       "      <td>2017-12-01</td>\n",
       "      <td>78</td>\n",
       "      <td>4</td>\n",
       "      <td>-6.0</td>\n",
       "      <td>36</td>\n",
       "      <td>2.3</td>\n",
       "      <td>2000</td>\n",
       "      <td>-18.6</td>\n",
       "      <td>0.0</td>\n",
       "      <td>0.0</td>\n",
       "      <td>...</td>\n",
       "      <td>No Holiday</td>\n",
       "      <td>Yes</td>\n",
       "      <td>12</td>\n",
       "      <td>1</td>\n",
       "      <td>4</td>\n",
       "      <td>Weekday</td>\n",
       "      <td>Night</td>\n",
       "      <td>Non-Peak</td>\n",
       "      <td>Freezing</td>\n",
       "      <td>Nighttime</td>\n",
       "    </tr>\n",
       "  </tbody>\n",
       "</table>\n",
       "<p>5 rows × 22 columns</p>\n",
       "</div>"
      ],
      "text/plain": [
       "        Date  Rented Bike Count  Hour  Temperature(°C)  Humidity(%)  \\\n",
       "0 2017-12-01                254     0             -5.2           37   \n",
       "1 2017-12-01                204     1             -5.5           38   \n",
       "2 2017-12-01                173     2             -6.0           39   \n",
       "3 2017-12-01                107     3             -6.2           40   \n",
       "4 2017-12-01                 78     4             -6.0           36   \n",
       "\n",
       "   Wind speed (m/s)  Visibility (10m)  Dew point temperature(°C)  \\\n",
       "0               2.2              2000                      -17.6   \n",
       "1               0.8              2000                      -17.6   \n",
       "2               1.0              2000                      -17.7   \n",
       "3               0.9              2000                      -17.6   \n",
       "4               2.3              2000                      -18.6   \n",
       "\n",
       "   Solar Radiation (MJ/m2)  Rainfall(mm)  ...     Holiday Functioning Day  \\\n",
       "0                      0.0           0.0  ...  No Holiday             Yes   \n",
       "1                      0.0           0.0  ...  No Holiday             Yes   \n",
       "2                      0.0           0.0  ...  No Holiday             Yes   \n",
       "3                      0.0           0.0  ...  No Holiday             Yes   \n",
       "4                      0.0           0.0  ...  No Holiday             Yes   \n",
       "\n",
       "  Month Day  Weekday  Is_Weekend  Part of the Day Peak Hour Weather Condition  \\\n",
       "0    12   1        4     Weekday            Night  Non-Peak          Freezing   \n",
       "1    12   1        4     Weekday            Night  Non-Peak          Freezing   \n",
       "2    12   1        4     Weekday            Night  Non-Peak          Freezing   \n",
       "3    12   1        4     Weekday            Night  Non-Peak          Freezing   \n",
       "4    12   1        4     Weekday            Night  Non-Peak          Freezing   \n",
       "\n",
       "    Daylight  \n",
       "0  Nighttime  \n",
       "1  Nighttime  \n",
       "2  Nighttime  \n",
       "3  Nighttime  \n",
       "4  Nighttime  \n",
       "\n",
       "[5 rows x 22 columns]"
      ]
     },
     "execution_count": 61,
     "metadata": {},
     "output_type": "execute_result"
    }
   ],
   "source": [
    "df.head()"
   ]
  },
  {
   "cell_type": "markdown",
   "id": "bc81335d-f44e-406d-87ab-aa33451556ad",
   "metadata": {},
   "source": [
    "*<left><font color=\"DarkSlateGray\">4.1 - Value Counts:</font><left>*"
   ]
  },
  {
   "cell_type": "code",
   "execution_count": 57,
   "id": "162c2e8e-d469-4b05-9b32-f261ac5b3a4f",
   "metadata": {},
   "outputs": [
    {
     "name": "stdout",
     "output_type": "stream",
     "text": [
      "Part of the Day\n",
      "Night        2920\n",
      "Morning      2555\n",
      "Afternoon    1825\n",
      "Evening      1460\n",
      "Name: count, dtype: int64\n"
     ]
    }
   ],
   "source": [
    "print(df['Part of the Day'].value_counts())"
   ]
  },
  {
   "cell_type": "code",
   "execution_count": 63,
   "id": "2a7af6b0-501d-4540-9b7e-067061196cbc",
   "metadata": {},
   "outputs": [
    {
     "name": "stdout",
     "output_type": "stream",
     "text": [
      "Is_Weekend\n",
      "Weekday    6264\n",
      "Weekend    2496\n",
      "Name: count, dtype: int64\n"
     ]
    }
   ],
   "source": [
    "print(df['Is_Weekend'].value_counts())"
   ]
  },
  {
   "cell_type": "code",
   "execution_count": 68,
   "id": "80c6fe50-26db-4f60-9434-e25497c8a92b",
   "metadata": {},
   "outputs": [
    {
     "name": "stdout",
     "output_type": "stream",
     "text": [
      "Weather Condition\n",
      "Normal      6405\n",
      "Freezing    1433\n",
      "Sunny        897\n",
      "Stormy        25\n",
      "Name: count, dtype: int64\n"
     ]
    }
   ],
   "source": [
    "print(df['Weather Condition'].value_counts())"
   ]
  },
  {
   "cell_type": "code",
   "execution_count": 74,
   "id": "64795385-e5e3-4317-8469-d228ec5f4d17",
   "metadata": {},
   "outputs": [
    {
     "name": "stdout",
     "output_type": "stream",
     "text": [
      "Peak Hour\n",
      "Non-Peak    6570\n",
      "Peak        2190\n",
      "Name: count, dtype: int64\n"
     ]
    }
   ],
   "source": [
    "print(df['Peak Hour'].value_counts())"
   ]
  },
  {
   "cell_type": "code",
   "execution_count": null,
   "id": "33cdc681-0822-473c-9498-0cda65d5ea82",
   "metadata": {},
   "outputs": [],
   "source": [
    "print(df['Daylight'].value_counts())"
   ]
  },
  {
   "cell_type": "markdown",
   "id": "6e3782bd-1e5a-48f9-8d07-a75e24209752",
   "metadata": {},
   "source": [
    "*<left><font color=\"DarkSlateGray\">4.1 - X:</font><left>*"
   ]
  },
  {
   "cell_type": "markdown",
   "id": "c07010a1-e548-40a0-b0b9-1115ddc0d823",
   "metadata": {},
   "source": [
    "*<left><font color=\"DarkSlateGray\">4.1 - X:</font><left>*"
   ]
  },
  {
   "cell_type": "markdown",
   "id": "db7b4755-7b44-4c97-9187-0e06ce8d46b4",
   "metadata": {},
   "source": [
    "*<left><font color=\"DarkSlateGray\">4.1 - X:</font><left>*"
   ]
  },
  {
   "cell_type": "code",
   "execution_count": null,
   "id": "c0ce3908-3c6e-4b53-bdc4-7511db4194d1",
   "metadata": {},
   "outputs": [],
   "source": [
    "# Define a new column order based on logical grouping\n",
    "\n",
    "new_column_order = [\n",
    "    'Customer Type',              # High-level customer info\n",
    "    'Age',                        # Basic demographic\n",
    "    'Age Range',                  # Derived feature for age grouping\n",
    "    'Type of Travel',             # Purpose of travel\n",
    "    'Class',                      # Travel class\n",
    "    'Flight Distance',            # Travel specifics\n",
    "    'Travel Time Type',           # Derived feature for travel time\n",
    "    'Departure Delay in Minutes', # Flight timing details\n",
    "    'Departure Delay Type',       # Derived feature for delay\n",
    "    'Arrival Delay in Minutes',\n",
    "    'Arrival Delay Type',\n",
    "    'Seat comfort',               # Service ratings\n",
    "    'Departure/Arrival time convenient',\n",
    "    'Food and drink',\n",
    "    'Gate location',\n",
    "    'Inflight wifi service',\n",
    "    'Inflight entertainment',\n",
    "    'Online support',\n",
    "    'Ease of Online booking',\n",
    "    'On-board service',\n",
    "    'Leg room service',\n",
    "    'Baggage handling',\n",
    "    'Checkin service',\n",
    "    'Cleanliness',\n",
    "    'Online boarding',\n",
    "    'Average Service Rating',     # Overall satisfaction metric\n",
    "    'satisfaction'                # Target variable or key analysis column\n",
    "]\n",
    "\n",
    "# Reorder the dataset columns\n",
    "df = df[new_column_order]\n",
    "\n",
    "# Display the first 5 rows of the reordered datase\n",
    "df.head()"
   ]
  },
  {
   "cell_type": "markdown",
   "id": "2264889f-f3fc-4bf2-8063-aa84f81d9d92",
   "metadata": {},
   "source": [
    "## <left><font color = \"DarkSlateGray\">*3. Exploratory Data Analysis:*</font><left>"
   ]
  },
  {
   "cell_type": "markdown",
   "id": "7f144be4-c072-47bc-a231-244c6ac434ca",
   "metadata": {},
   "source": [
    "*<left><font color=\"DarkSlateGray\">3.1 - Value Count Analysis:</font><left>*"
   ]
  },
  {
   "cell_type": "code",
   "execution_count": null,
   "id": "1e2230f8-5e11-4bba-8617-322b900e8b56",
   "metadata": {},
   "outputs": [],
   "source": [
    "print(df['satisfaction'].value_counts())"
   ]
  },
  {
   "cell_type": "code",
   "execution_count": null,
   "id": "86b317e7-002c-45d2-bc33-76d8dd44dc20",
   "metadata": {},
   "outputs": [],
   "source": [
    "print(df['Customer Type'].value_counts())"
   ]
  },
  {
   "cell_type": "code",
   "execution_count": null,
   "id": "023a1042-b2ea-4648-87fe-24ee2c67e3d7",
   "metadata": {},
   "outputs": [],
   "source": [
    "print(df['Age Range'].value_counts())"
   ]
  },
  {
   "cell_type": "code",
   "execution_count": null,
   "id": "609f4b11-855f-42c1-902b-397864eac739",
   "metadata": {},
   "outputs": [],
   "source": [
    "print(df['Type of Travel'].value_counts())"
   ]
  },
  {
   "cell_type": "code",
   "execution_count": null,
   "id": "17187907-85f1-4aef-9746-23f9c36f8d34",
   "metadata": {},
   "outputs": [],
   "source": [
    "print(df['Class'].value_counts())"
   ]
  },
  {
   "cell_type": "code",
   "execution_count": null,
   "id": "4cbc4cc4-d388-4bcc-a023-59434a6ca97c",
   "metadata": {},
   "outputs": [],
   "source": [
    "print(df['Departure Delay Type'].value_counts())"
   ]
  },
  {
   "cell_type": "code",
   "execution_count": null,
   "id": "83f557a7-4ea8-401c-908c-8b9723a27fcf",
   "metadata": {},
   "outputs": [],
   "source": [
    "print(df['Arrival Delay Type'].value_counts())"
   ]
  },
  {
   "cell_type": "code",
   "execution_count": null,
   "id": "43174ee2-6ec8-40a9-9f97-c829bd1d726a",
   "metadata": {},
   "outputs": [],
   "source": [
    "print(df['Travel Time Type'].value_counts())"
   ]
  },
  {
   "cell_type": "markdown",
   "id": "68ae232e-3f76-451a-b230-bd88abf70e18",
   "metadata": {},
   "source": [
    "*<left><font color=\"DarkSlateGray\">3.2 - Satisfaction Analysis:</font><left>*"
   ]
  },
  {
   "cell_type": "markdown",
   "id": "3d1170c9-cf81-414e-8013-263b9c05fd2e",
   "metadata": {},
   "source": [
    "*<left><font color=\"DarkSlateGray\">3.3 - Customer Analysis:</font><left>*"
   ]
  },
  {
   "cell_type": "markdown",
   "id": "87e9be91-b27e-4765-b9a0-2d4ab7aa7e36",
   "metadata": {},
   "source": [
    "*<left><font color=\"DarkSlateGray\">3.4 - Service Analysis:</font><left>*"
   ]
  },
  {
   "cell_type": "markdown",
   "id": "8e02e70f-3369-4334-a89b-8587a2a464f3",
   "metadata": {},
   "source": [
    "## <left><font color = \"DarkSlateGray\">*4. Satisitcal Analysis:*</font><left>"
   ]
  },
  {
   "cell_type": "markdown",
   "id": "96560b84-790f-41f3-b728-70d1657b2b57",
   "metadata": {},
   "source": [
    "*<left><font color=\"DarkSlateGray\">4.1 - X:</font><left>*"
   ]
  },
  {
   "cell_type": "markdown",
   "id": "1ac85988-219f-4c18-a577-33189467c6ea",
   "metadata": {},
   "source": [
    "*<left><font color=\"DarkSlateGray\">4.2 - X:</font><left>*"
   ]
  },
  {
   "cell_type": "markdown",
   "id": "13b9c5d2-3663-4d20-9fc8-a8f79c5d9c63",
   "metadata": {},
   "source": [
    "*<left><font color=\"DarkSlateGray\">4.3 - X:</font><left>*"
   ]
  },
  {
   "cell_type": "markdown",
   "id": "29136169-32be-4227-9cd3-553ea3833a8c",
   "metadata": {},
   "source": [
    "*<left><font color=\"DarkSlateGray\">4.4 - X:</font><left>*"
   ]
  },
  {
   "cell_type": "markdown",
   "id": "a81735d7-3fcd-4a7d-afa7-63c49341b051",
   "metadata": {},
   "source": [
    "## <left><font color = \"DarkSlateGray\">*5. X:*</font><left>"
   ]
  },
  {
   "cell_type": "markdown",
   "id": "f42c1981-8012-4020-8ca4-434c44cb7646",
   "metadata": {},
   "source": [
    "*<left><font color=\"DarkSlateGray\">5.1 - X:</font><left>*"
   ]
  },
  {
   "cell_type": "markdown",
   "id": "9dcecec4-efd9-4828-b78f-522e65c53d8e",
   "metadata": {},
   "source": [
    "*<left><font color=\"DarkSlateGray\">5.2 - X:</font><left>*"
   ]
  },
  {
   "cell_type": "markdown",
   "id": "90425889-a433-43dd-9a30-8d6c20bdc26b",
   "metadata": {},
   "source": [
    "*<left><font color=\"DarkSlateGray\">5.3 - X:</font><left>*"
   ]
  },
  {
   "cell_type": "markdown",
   "id": "355a5d99-967e-4d59-864c-4efba32c3aec",
   "metadata": {},
   "source": [
    "*<left><font color=\"DarkSlateGray\">5.4 - X:</font><left>*"
   ]
  }
 ],
 "metadata": {
  "kernelspec": {
   "display_name": "Python 3 (ipykernel)",
   "language": "python",
   "name": "python3"
  },
  "language_info": {
   "codemirror_mode": {
    "name": "ipython",
    "version": 3
   },
   "file_extension": ".py",
   "mimetype": "text/x-python",
   "name": "python",
   "nbconvert_exporter": "python",
   "pygments_lexer": "ipython3",
   "version": "3.12.4"
  }
 },
 "nbformat": 4,
 "nbformat_minor": 5
}
