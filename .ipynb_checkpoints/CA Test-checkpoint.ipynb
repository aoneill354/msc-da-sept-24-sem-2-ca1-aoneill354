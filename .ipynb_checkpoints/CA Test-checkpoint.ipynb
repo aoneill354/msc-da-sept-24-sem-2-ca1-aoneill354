{
 "cells": [
  {
   "cell_type": "code",
   "execution_count": 1,
   "id": "1b9a7bbb-f114-4739-8390-ed8d5075f42d",
   "metadata": {},
   "outputs": [],
   "source": [
    "# Test Test"
   ]
  },
  {
   "cell_type": "code",
   "execution_count": null,
   "id": "cffe33d8-9281-4877-afdd-33641a5af940",
   "metadata": {},
   "outputs": [],
   "source": []
  }
 ],
 "metadata": {
  "kernelspec": {
   "display_name": "Python 3 (ipykernel)",
   "language": "python",
   "name": "python3"
  },
  "language_info": {
   "codemirror_mode": {
    "name": "ipython",
    "version": 3
   },
   "file_extension": ".py",
   "mimetype": "text/x-python",
   "name": "python",
   "nbconvert_exporter": "python",
   "pygments_lexer": "ipython3",
   "version": "3.12.4"
  }
 },
 "nbformat": 4,
 "nbformat_minor": 5
}
