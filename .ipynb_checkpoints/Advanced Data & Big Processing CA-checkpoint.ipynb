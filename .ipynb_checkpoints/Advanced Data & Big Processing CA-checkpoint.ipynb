{
 "cells": [
  {
   "cell_type": "markdown",
   "id": "1f1f294e-4769-4889-88a2-73bd70aabc26",
   "metadata": {},
   "source": [
    "---\n",
    "# <center><font color = \"DarkSlateGray\">*Airline Customer Satisfaction:*</font><center>\n",
    "---"
   ]
  },
  {
   "cell_type": "markdown",
   "id": "4963fadf-3f88-4359-94bc-d6d9b23bcc0c",
   "metadata": {},
   "source": [
    "**<left><font color=\"DarkSlateGray\"> Introduction:</font><left>**\n",
    "\n",
    "The Airline Passenger Satisfaction Dataset is a comprehensive dataset designed to evaulate and analyse customer satisfaction within the airline industry. The dataset includes a rich vareity of features that capture different aspects of the passenger expereince, from demographic information to service quality ratings.\n",
    "\n",
    "**<left><font color=\"DarkSlateGray\"> The Importance of CSAT in the Airline Industry:</font><left>**\n",
    "\n",
    "Customer Satisfaction (CSAT) is a critical metric for success in the highly competitive airline industry. It measures the level of contentment passengers experience with the services provided, encompassing everything from the booking process to the in-flight experience. As customer expecations evolve and competition intensifies, airlines are increasingly focusing on CSAT to differentiate themselves and ensure long-term growth. \n",
    "\n",
    "**<left><font color=\"DarkSlateGray\"> Research Questions:</font><left>**"
   ]
  },
  {
   "cell_type": "code",
   "execution_count": null,
   "id": "3401fe9c-9c50-4263-bf4b-a6ccfa55672e",
   "metadata": {},
   "outputs": [],
   "source": []
  }
 ],
 "metadata": {
  "kernelspec": {
   "display_name": "Python 3 (ipykernel)",
   "language": "python",
   "name": "python3"
  },
  "language_info": {
   "codemirror_mode": {
    "name": "ipython",
    "version": 3
   },
   "file_extension": ".py",
   "mimetype": "text/x-python",
   "name": "python",
   "nbconvert_exporter": "python",
   "pygments_lexer": "ipython3",
   "version": "3.12.4"
  }
 },
 "nbformat": 4,
 "nbformat_minor": 5
}
